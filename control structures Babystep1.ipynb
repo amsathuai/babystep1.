{
 "cells": [
  {
   "cell_type": "code",
   "execution_count": 1,
   "id": "0719644e",
   "metadata": {},
   "outputs": [
    {
     "name": "stdout",
     "output_type": "stream",
     "text": [
      "Welcome to Assignment-1\n"
     ]
    }
   ],
   "source": [
    "print(\"Welcome to Assignment-1\")"
   ]
  },
  {
   "cell_type": "code",
   "execution_count": 2,
   "id": "40743088",
   "metadata": {},
   "outputs": [
    {
     "name": "stdout",
     "output_type": "stream",
     "text": [
      "Num1= 10\n",
      "Num2= 30\n",
      "Add= 40\n"
     ]
    }
   ],
   "source": [
    "Num1=10\n",
    "Num2=30\n",
    "print(\"Num1=\",Num1)\n",
    "print(\"Num2=\",Num2)\n",
    "add=Num1+Num2\n",
    "print(\"Add=\",add)"
   ]
  },
  {
   "cell_type": "code",
   "execution_count": 3,
   "id": "b35bfccd",
   "metadata": {},
   "outputs": [
    {
     "name": "stdout",
     "output_type": "stream",
     "text": [
      "Enter the BMI Index34\n",
      "very over weight\n"
     ]
    }
   ],
   "source": [
    "BMI=int(input(\"Enter the BMI Index\"))\n",
    "if(BMI<18.5):\n",
    "    print(\"Underweight\")\n",
    "elif(BMI<=24.9):\n",
    "    print(\"Normal Weight\")\n",
    "elif(BMI<=29.9):\n",
    "    print(\"Over Weight\")\n",
    "elif(BMI<=34.9):\n",
    "    print(\"very over weight\")\n",
    "elif(BMI<=39.9):\n",
    "    print(\"Obesity class1\")\n",
    "else:\n",
    "    print(\"Obesity class2\")\n"
   ]
  },
  {
   "cell_type": "code",
   "execution_count": null,
   "id": "890a9e2e",
   "metadata": {},
   "outputs": [],
   "source": []
  }
 ],
 "metadata": {
  "kernelspec": {
   "display_name": "Python 3 (ipykernel)",
   "language": "python",
   "name": "python3"
  },
  "language_info": {
   "codemirror_mode": {
    "name": "ipython",
    "version": 3
   },
   "file_extension": ".py",
   "mimetype": "text/x-python",
   "name": "python",
   "nbconvert_exporter": "python",
   "pygments_lexer": "ipython3",
   "version": "3.11.5"
  }
 },
 "nbformat": 4,
 "nbformat_minor": 5
}
